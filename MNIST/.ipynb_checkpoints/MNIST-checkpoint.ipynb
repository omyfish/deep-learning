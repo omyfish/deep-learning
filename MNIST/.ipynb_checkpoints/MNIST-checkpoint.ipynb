{
 "cells": [
  {
   "cell_type": "code",
   "execution_count": 1,
   "metadata": {},
   "outputs": [],
   "source": [
    "%matplotlib inline\n",
    "\n",
    "import torch\n",
    "from torchvision import datasets, transforms\n",
    "import numpy\n",
    "import matplotlib.pyplot as plt\n"
   ]
  },
  {
   "cell_type": "code",
   "execution_count": null,
   "metadata": {},
   "outputs": [
    {
     "name": "stderr",
     "output_type": "stream",
     "text": [
      "\r",
      "0it [00:00, ?it/s]"
     ]
    },
    {
     "name": "stdout",
     "output_type": "stream",
     "text": [
      "Downloading http://yann.lecun.com/exdb/mnist/train-images-idx3-ubyte.gz to C:\\Users\\Admin/python/mnist\\MNIST\\raw\\train-images-idx3-ubyte.gz\n"
     ]
    },
    {
     "name": "stderr",
     "output_type": "stream",
     "text": [
      " 39%|██████████████████████████▊                                         | 3907584/9912422 [00:21<00:24, 240937.84it/s]"
     ]
    }
   ],
   "source": [
    "transform = transforms.Compose([transforms.ToTensor(),\n",
    "                               transforms.Normalize((0.5,),(0.5,))])\n",
    "\n",
    "\n",
    "trainset = datasets.MNIST('~/python/mnist', download=True, train=True, transform = transform)\n",
    "trainloader = torch.utils.data.DataLoader(trainset, batch_size=64, shuffle = True)\n",
    "\n",
    "testset = datasets.MNIST('~/python/mnist', download=True, train=False, transform = transform)\n",
    "testloader = torch.utils.data.DataLoader(testset, batch_size=64, shuffle = True)"
   ]
  },
  {
   "cell_type": "code",
   "execution_count": 15,
   "metadata": {},
   "outputs": [
    {
     "data": {
      "image/png": "[encoded data removed]",
      "text/plain": [
       "<Figure size 432x288 with 1 Axes>"
      ]
     },
     "metadata": {
      "needs_background": "light"
     },
     "output_type": "display_data"
    },
    {
     "name": "stdout",
     "output_type": "stream",
     "text": [
      "tensor(8)\n"
     ]
    }
   ],
   "source": [
    "images, labels = next(iter(trainloader))\n",
    "\n",
    "image = images[0].squeeze()\n",
    "plt.imshow(image)\n",
    "plt.show()\n",
    "print(labels[0])"
   ]
  },
  {
   "cell_type": "code",
   "execution_count": 16,
   "metadata": {},
   "outputs": [],
   "source": [
    "import torch.nn as nn\n",
    "import torch.nn.functional as F\n",
    "\n",
    "class Classify(nn.Module):\n",
    "        def __init__(self):\n",
    "            super().__init__()\n",
    "            self.fc1 = nn.Linear(28 * 28, 128)\n",
    "            self.fc2 = nn.Linear(128, 64)\n",
    "            self.fc3 = nn.Linear(64, 10)\n",
    "            self.dropout = nn.Dropout(0.2)\n",
    "        \n",
    "        def forward(self, x):\n",
    "            x = x.view(x.shape[0], -1)\n",
    "            x = self.dropout(F.relu(self.fc1(x)))\n",
    "            x = self.dropout(F.relu(self.fc2(x)))\n",
    "            x = F.log_softmax(self.fc3(x), dim=1)\n",
    "            return x\n",
    "            "
   ]
  },
  {
   "cell_type": "code",
   "execution_count": 94,
   "metadata": {},
   "outputs": [
    {
     "name": "stdout",
     "output_type": "stream",
     "text": [
      "Train loss 0:  1.948531971684397\n",
      "Train loss 1:  1.0908172347271112\n",
      "Train loss 2:  0.7210607814954034\n",
      "Train loss 3:  0.5908673872063155\n",
      "Train loss 4:  0.5222338189734325\n"
     ]
    }
   ],
   "source": [
    "import torch.optim as optim\n",
    "\n",
    "epoch = 5\n",
    "model = Classify()\n",
    "criterion = nn.NLLLoss()\n",
    "optimizer = optim.SGD(model.parameters(), lr=0.003)\n",
    "\n",
    "for e in range(epoch):\n",
    "    train_loss = 0\n",
    "    for images, labels in trainloader:        \n",
    "        optimizer.zero_grad()\n",
    "        output = model(images)\n",
    "        loss = criterion(output, labels)\n",
    "        train_loss += loss.item()\n",
    "        loss.backward()\n",
    "        optimizer.step()\n",
    "    print(f'Train loss {e}: ', train_loss/len(trainloader))\n",
    "        \n",
    "\n",
    "    "
   ]
  },
  {
   "cell_type": "code",
   "execution_count": 57,
   "metadata": {},
   "outputs": [],
   "source": [
    "import numpy as np\n",
    "\n",
    "def show_classify(image, ps):\n",
    "    fig, (ax1, ax2) = plt.subplots(1,2, figsize=(5,5))\n",
    "    ax1.axis('off')\n",
    "    ax1.imshow(image.squeeze())\n",
    "    ax2.set_aspect(0.1)\n",
    "    ax2.set_yticks(np.arange(10))\n",
    "    ax2.set_yticklabels(np.arange(10))\n",
    "    ax2.barh(np.arange(10), ps.squeeze())\n",
    "    ax2.set_xlim(0, 1.1)\n",
    "    ax2.set_title('Class probability')\n",
    "    plt.tight_layout()"
   ]
  },
  {
   "cell_type": "code",
   "execution_count": 84,
   "metadata": {
    "scrolled": true
   },
   "outputs": [
    {
     "name": "stdout",
     "output_type": "stream",
     "text": [
      "tensor(True)\n"
     ]
    },
    {
     "data": {
      "image/png": "[encoded data removed]",
      "text/plain": [
       "<Figure size 360x360 with 2 Axes>"
      ]
     },
     "metadata": {
      "needs_background": "light"
     },
     "output_type": "display_data"
    }
   ],
   "source": [
    "images, labels = next(iter(testloader))\n",
    "image = images[0]\n",
    "\n",
    "with torch.no_grad():\n",
    "    logps = model(image)\n",
    "    ps = torch.exp(logps)\n",
    "    t_ps, t_class = ps.topk(1)\n",
    "    equal = t_class == labels[0]\n",
    "    print(equal.squeeze())\n",
    "\n",
    "show_classify(image, ps)"
   ]
  },
  {
   "cell_type": "code",
   "execution_count": 93,
   "metadata": {},
   "outputs": [
    {
     "name": "stdout",
     "output_type": "stream",
     "text": [
      "Total test loss is 0.2931628865990669\n",
      "Accuracy Rate:91.172\n"
     ]
    }
   ],
   "source": [
    "test_loss = 0\n",
    "accuracy = 0\n",
    "for images, labels in testloader:\n",
    "    with torch.no_grad():\n",
    "        output = model(images)\n",
    "        loss = criterion(output, labels)\n",
    "        test_loss += loss.item()\n",
    "        ps = torch.exp(output)\n",
    "        t_ps, t_class = ps.topk(1)\n",
    "        equal = t_class == labels.view(*t_class.shape)\n",
    "        accuracy += torch.mean(equal.type(torch.FloatTensor))\n",
    "\n",
    "\n",
    "print(f'Total test loss is {test_loss/len(testloader)}')\n",
    "print('Accuracy Rate:{:.3f}'.format(accuracy/len(testloader) * 100))\n",
    "\n",
    "        "
   ]
  },
  {
   "cell_type": "code",
   "execution_count": 63,
   "metadata": {},
   "outputs": [
    {
     "name": "stdout",
     "output_type": "stream",
     "text": [
      "1577105575.788861\n"
     ]
    }
   ],
   "source": [
    "images, labels = next(iter(testloader))\n",
    "image = images[0]\n",
    "\n",
    "with torch.no_grad():\n",
    "    logps = model(image)\n",
    "    ps = torch.exp(logps)\n",
    "    t_ps, t_class = ps.topk(1)\n",
    "    equal = t_class == labels[0]\n",
    "    print(equal.squeeze())\n",
    "\n",
    "show_classify(image, ps)"
   ]
  },
  {
   "cell_type": "code",
   "execution_count": null,
   "metadata": {},
   "outputs": [],
   "source": []
  }
 ],
 "metadata": {
  "kernelspec": {
   "display_name": "Python 3",
   "language": "python",
   "name": "python3"
  },
  "language_info": {
   "codemirror_mode": {
    "name": "ipython",
    "version": 3
   },
   "file_extension": ".py",
   "mimetype": "text/x-python",
   "name": "python",
   "nbconvert_exporter": "python",
   "pygments_lexer": "ipython3",
   "version": "3.6.9"
  }
 },
 "nbformat": 4,
 "nbformat_minor": 2
}
