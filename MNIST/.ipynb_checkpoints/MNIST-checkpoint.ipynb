{
 "cells": [
  {
   "cell_type": "code",
   "execution_count": 1,
   "metadata": {},
   "outputs": [],
   "source": [
    "%matplotlib inline\n",
    "\n",
    "import torch\n",
    "from torchvision import datasets, transforms\n",
    "import numpy\n",
    "import matplotlib.pyplot as plt\n"
   ]
  },
  {
   "cell_type": "code",
   "execution_count": 95,
   "metadata": {},
   "outputs": [
    {
     "name": "stderr",
     "output_type": "stream",
     "text": [
      "\r",
      "0it [00:00, ?it/s]"
     ]
    },
    {
     "name": "stdout",
     "output_type": "stream",
     "text": [
      "Downloading http://yann.lecun.com/exdb/mnist/train-images-idx3-ubyte.gz to C:\\Users\\Admin/python/mnist\\MNIST\\raw\\train-images-idx3-ubyte.gz\n"
     ]
    },
    {
     "name": "stderr",
     "output_type": "stream",
     "text": [
      "9920512it [00:36, 344365.94it/s]                                                                                       "
     ]
    },
    {
     "name": "stdout",
     "output_type": "stream",
     "text": [
      "Extracting C:\\Users\\Admin/python/mnist\\MNIST\\raw\\train-images-idx3-ubyte.gz to C:\\Users\\Admin/python/mnist\\MNIST\\raw\n"
     ]
    },
    {
     "name": "stderr",
     "output_type": "stream",
     "text": [
      "\n",
      "0it [00:00, ?it/s]\u001b[A"
     ]
    },
    {
     "name": "stdout",
     "output_type": "stream",
     "text": [
      "Downloading http://yann.lecun.com/exdb/mnist/train-labels-idx1-ubyte.gz to C:\\Users\\Admin/python/mnist\\MNIST\\raw\\train-labels-idx1-ubyte.gz\n"
     ]
    },
    {
     "name": "stderr",
     "output_type": "stream",
     "text": [
      "\n",
      "  0%|                                                                                        | 0/28881 [00:00<?, ?it/s]\u001b[A\n",
      "32768it [00:00, 34112.61it/s]                                                                                          \u001b[A\n",
      "\n",
      "0it [00:00, ?it/s]\u001b[A"
     ]
    },
    {
     "name": "stdout",
     "output_type": "stream",
     "text": [
      "Extracting C:\\Users\\Admin/python/mnist\\MNIST\\raw\\train-labels-idx1-ubyte.gz to C:\\Users\\Admin/python/mnist\\MNIST\\raw\n",
      "Downloading http://yann.lecun.com/exdb/mnist/t10k-images-idx3-ubyte.gz to C:\\Users\\Admin/python/mnist\\MNIST\\raw\\t10k-images-idx3-ubyte.gz\n"
     ]
    },
    {
     "name": "stderr",
     "output_type": "stream",
     "text": [
      "\n",
      "  0%|                                                                                      | 0/1648877 [00:00<?, ?it/s]\u001b[A\n",
      "  3%|██                                                                    | 49152/1648877 [00:00<00:03, 426680.64it/s]\u001b[A\n",
      "  4%|██▊                                                                   | 65536/1648877 [00:01<00:11, 142319.37it/s]\u001b[A\n",
      "  5%|███▌                                                                   | 81920/1648877 [00:01<00:17, 90329.16it/s]\u001b[A\n",
      "  8%|█████▊                                                               | 139264/1648877 [00:01<00:12, 117424.75it/s]\u001b[A\n",
      " 11%|███████▌                                                             | 180224/1648877 [00:01<00:09, 147853.56it/s]\u001b[A\n",
      " 14%|█████████▉                                                           | 237568/1648877 [00:01<00:07, 189948.28it/s]\u001b[A\n",
      " 19%|█████████████                                                        | 311296/1648877 [00:01<00:05, 240921.23it/s]\u001b[A\n",
      " 23%|███████████████▊                                                     | 376832/1648877 [00:02<00:04, 295750.97it/s]\u001b[A\n",
      " 27%|██████████████████▌                                                  | 442368/1648877 [00:02<00:03, 348662.69it/s]\u001b[A\n",
      " 31%|█████████████████████▎                                               | 507904/1648877 [00:02<00:02, 401889.60it/s]\u001b[A\n",
      " 36%|████████████████████████▋                                            | 589824/1648877 [00:02<00:02, 467825.77it/s]\u001b[A\n",
      " 40%|███████████████████████████▍                                         | 655360/1648877 [00:02<00:01, 505826.70it/s]\u001b[A\n",
      " 44%|██████████████████████████████▏                                      | 720896/1648877 [00:02<00:01, 542226.07it/s]\u001b[A\n",
      " 49%|█████████████████████████████████▉                                   | 811008/1648877 [00:02<00:01, 599527.89it/s]\u001b[A\n",
      " 54%|█████████████████████████████████████▎                               | 892928/1648877 [00:02<00:01, 647652.62it/s]\u001b[A\n",
      " 60%|█████████████████████████████████████████▏                           | 983040/1648877 [00:02<00:00, 683925.22it/s]\u001b[A\n",
      " 65%|███████████████████████████████████████████▉                        | 1064960/1648877 [00:03<00:00, 691313.90it/s]\u001b[A\n",
      " 70%|███████████████████████████████████████████████▎                    | 1146880/1648877 [00:03<00:00, 719555.09it/s]\u001b[A\n",
      " 76%|███████████████████████████████████████████████████▋                | 1253376/1648877 [00:03<00:00, 771978.92it/s]\u001b[A\n",
      " 82%|███████████████████████████████████████████████████████▋            | 1351680/1648877 [00:03<00:00, 821416.65it/s]\u001b[A\n",
      " 88%|███████████████████████████████████████████████████████████▊        | 1449984/1648877 [00:03<00:00, 854528.60it/s]\u001b[A\n",
      " 94%|████████████████████████████████████████████████████████████████▏   | 1556480/1648877 [00:03<00:00, 879503.52it/s]\u001b[A\n",
      "1654784it [00:03, 906381.61it/s]                                                                                       \u001b[A\n",
      "\n",
      "0it [00:00, ?it/s]\u001b[A\u001b[A"
     ]
    },
    {
     "name": "stdout",
     "output_type": "stream",
     "text": [
      "Extracting C:\\Users\\Admin/python/mnist\\MNIST\\raw\\t10k-images-idx3-ubyte.gz to C:\\Users\\Admin/python/mnist\\MNIST\\raw\n",
      "Downloading http://yann.lecun.com/exdb/mnist/t10k-labels-idx1-ubyte.gz to C:\\Users\\Admin/python/mnist\\MNIST\\raw\\t10k-labels-idx1-ubyte.gz\n"
     ]
    },
    {
     "name": "stderr",
     "output_type": "stream",
     "text": [
      "\n",
      "\n",
      "8192it [00:00, 13142.75it/s]                                                                                           \u001b[A\u001b[A\n"
     ]
    },
    {
     "name": "stdout",
     "output_type": "stream",
     "text": [
      "Extracting C:\\Users\\Admin/python/mnist\\MNIST\\raw\\t10k-labels-idx1-ubyte.gz to C:\\Users\\Admin/python/mnist\\MNIST\\raw\n",
      "Processing...\n",
      "Done!\n"
     ]
    },
    {
     "name": "stderr",
     "output_type": "stream",
     "text": [
      "9920512it [00:50, 344365.94it/s]\n",
      "1654784it [00:22, 906381.61it/s]\u001b[A"
     ]
    }
   ],
   "source": [
    "transform = transforms.Compose([transforms.ToTensor(),\n",
    "                               transforms.Normalize((0.5,),(0.5,))])\n",
    "\n",
    "\n",
    "trainset = datasets.MNIST('~/python/mnist', download=True, train=True, transform = transform)\n",
    "trainloader = torch.utils.data.DataLoader(trainset, batch_size=64, shuffle = True)\n",
    "\n",
    "testset = datasets.MNIST('~/python/mnist', download=True, train=False, transform = transform)\n",
    "testloader = torch.utils.data.DataLoader(testset, batch_size=64, shuffle = True)"
   ]
  },
  {
   "cell_type": "code",
   "execution_count": 15,
   "metadata": {},
   "outputs": [
    {
     "data": {
      "image/png": "[encoded data removed]",
      "text/plain": [
       "<Figure size 432x288 with 1 Axes>"
      ]
     },
     "metadata": {
      "needs_background": "light"
     },
     "output_type": "display_data"
    },
    {
     "name": "stdout",
     "output_type": "stream",
     "text": [
      "tensor(8)\n"
     ]
    }
   ],
   "source": [
    "images, labels = next(iter(trainloader))\n",
    "\n",
    "image = images[0].squeeze()\n",
    "plt.imshow(image)\n",
    "plt.show()\n",
    "print(labels[0])"
   ]
  },
  {
   "cell_type": "code",
   "execution_count": 16,
   "metadata": {},
   "outputs": [],
   "source": [
    "import torch.nn as nn\n",
    "import torch.nn.functional as F\n",
    "\n",
    "class Classify(nn.Module):\n",
    "        def __init__(self):\n",
    "            super().__init__()\n",
    "            self.fc1 = nn.Linear(28 * 28, 128)\n",
    "            self.fc2 = nn.Linear(128, 64)\n",
    "            self.fc3 = nn.Linear(64, 10)\n",
    "            self.dropout = nn.Dropout(0.2)\n",
    "        \n",
    "        def forward(self, x):\n",
    "            x = x.view(x.shape[0], -1)\n",
    "            x = self.dropout(F.relu(self.fc1(x)))\n",
    "            x = self.dropout(F.relu(self.fc2(x)))\n",
    "            x = F.log_softmax(self.fc3(x), dim=1)\n",
    "            return x\n",
    "            "
   ]
  },
  {
   "cell_type": "code",
   "execution_count": 96,
   "metadata": {},
   "outputs": [
    {
     "name": "stdout",
     "output_type": "stream",
     "text": [
      "Train loss 0:  2.0027077283178056\n",
      "Train loss 1:  1.1176094541798776\n",
      "Train loss 2:  0.7493136433650182\n",
      "Train loss 3:  0.6090841762610336\n",
      "Train loss 4:  0.537537053290969\n"
     ]
    }
   ],
   "source": [
    "import torch.optim as optim\n",
    "\n",
    "epoch = 5\n",
    "model = Classify()\n",
    "criterion = nn.NLLLoss()\n",
    "optimizer = optim.SGD(model.parameters(), lr=0.003)\n",
    "\n",
    "for e in range(epoch):\n",
    "    train_loss = 0\n",
    "    for images, labels in trainloader:        \n",
    "        optimizer.zero_grad()\n",
    "        output = model(images)\n",
    "        loss = criterion(output, labels)\n",
    "        train_loss += loss.item()\n",
    "        loss.backward()\n",
    "        optimizer.step()\n",
    "    print(f'Train loss {e}: ', train_loss/len(trainloader))\n",
    "    torch.save(model.state_dict(), 'checkpoint.pth')\n",
    "        \n",
    "\n",
    "    "
   ]
  },
  {
   "cell_type": "code",
   "execution_count": 57,
   "metadata": {},
   "outputs": [],
   "source": [
    "import numpy as np\n",
    "\n",
    "def show_classify(image, ps):\n",
    "    fig, (ax1, ax2) = plt.subplots(1,2, figsize=(5,5))\n",
    "    ax1.axis('off')\n",
    "    ax1.imshow(image.squeeze())\n",
    "    ax2.set_aspect(0.1)\n",
    "    ax2.set_yticks(np.arange(10))\n",
    "    ax2.set_yticklabels(np.arange(10))\n",
    "    ax2.barh(np.arange(10), ps.squeeze())\n",
    "    ax2.set_xlim(0, 1.1)\n",
    "    ax2.set_title('Class probability')\n",
    "    plt.tight_layout()"
   ]
  },
  {
   "cell_type": "code",
   "execution_count": 84,
   "metadata": {
    "scrolled": true
   },
   "outputs": [
    {
     "name": "stdout",
     "output_type": "stream",
     "text": [
      "tensor(True)\n"
     ]
    },
    {
     "data": {
      "image/png": "[encoded data removed]",
      "text/plain": [
       "<Figure size 360x360 with 2 Axes>"
      ]
     },
     "metadata": {
      "needs_background": "light"
     },
     "output_type": "display_data"
    }
   ],
   "source": [
    "images, labels = next(iter(testloader))\n",
    "image = images[0]\n",
    "\n",
    "with torch.no_grad():\n",
    "    logps = model(image)\n",
    "    ps = torch.exp(logps)\n",
    "    t_ps, t_class = ps.topk(1)\n",
    "    equal = t_class == labels[0]\n",
    "    print(equal.squeeze())\n",
    "\n",
    "show_classify(image, ps)"
   ]
  },
  {
   "cell_type": "code",
   "execution_count": 93,
   "metadata": {},
   "outputs": [
    {
     "name": "stdout",
     "output_type": "stream",
     "text": [
      "Total test loss is 0.2931628865990669\n",
      "Accuracy Rate:91.172\n"
     ]
    }
   ],
   "source": [
    "test_loss = 0\n",
    "accuracy = 0\n",
    "for images, labels in testloader:\n",
    "    with torch.no_grad():\n",
    "        output = model(images)\n",
    "        loss = criterion(output, labels)\n",
    "        test_loss += loss.item()\n",
    "        ps = torch.exp(output)\n",
    "        t_ps, t_class = ps.topk(1)\n",
    "        equal = t_class == labels.view(*t_class.shape)\n",
    "        accuracy += torch.mean(equal.type(torch.FloatTensor))\n",
    "\n",
    "\n",
    "print(f'Total test loss is {test_loss/len(testloader)}')\n",
    "print('Accuracy Rate:{:.3f}'.format(accuracy/len(testloader) * 100))\n",
    "\n",
    "        "
   ]
  },
  {
   "cell_type": "code",
   "execution_count": 63,
   "metadata": {},
   "outputs": [
    {
     "name": "stdout",
     "output_type": "stream",
     "text": [
      "1577105575.788861\n"
     ]
    }
   ],
   "source": [
    "images, labels = next(iter(testloader))\n",
    "image = images[0]\n",
    "\n",
    "with torch.no_grad():\n",
    "    logps = model(image)\n",
    "    ps = torch.exp(logps)\n",
    "    t_ps, t_class = ps.topk(1)\n",
    "    equal = t_class == labels[0]\n",
    "    print(equal.squeeze())\n",
    "\n",
    "show_classify(image, ps)"
   ]
  },
  {
   "cell_type": "code",
   "execution_count": 111,
   "metadata": {},
   "outputs": [
    {
     "name": "stdout",
     "output_type": "stream",
     "text": [
      "OrderedDict([('fc1.weight', tensor([[-0.0101,  0.0314, -0.0133,  ..., -0.0154,  0.0226, -0.0284],\n",
      "        [-0.0196,  0.0363,  0.0292,  ..., -0.0138, -0.0265, -0.0312],\n",
      "        [-0.0132, -0.0276, -0.0122,  ..., -0.0193,  0.0046, -0.0305],\n",
      "        ...,\n",
      "        [ 0.0321, -0.0133,  0.0097,  ...,  0.0109,  0.0144,  0.0083],\n",
      "        [-0.0183, -0.0039, -0.0285,  ..., -0.0135,  0.0124,  0.0011],\n",
      "        [ 0.0046, -0.0310, -0.0265,  ...,  0.0109,  0.0288,  0.0056]])), ('fc1.bias', tensor([ 0.0255,  0.0136,  0.0315, -0.0324, -0.0199, -0.0161,  0.0114, -0.0152,\n",
      "        -0.0331,  0.0327, -0.0042, -0.0228,  0.0139,  0.0111,  0.0344,  0.0156,\n",
      "         0.0295,  0.0286,  0.0044,  0.0342, -0.0148, -0.0113,  0.0154, -0.0327,\n",
      "         0.0346, -0.0180,  0.0221, -0.0225, -0.0068,  0.0186,  0.0066,  0.0122,\n",
      "         0.0073, -0.0305,  0.0006,  0.0114,  0.0023,  0.0124,  0.0272,  0.0308,\n",
      "        -0.0241,  0.0037,  0.0305, -0.0092, -0.0286,  0.0028, -0.0282,  0.0288,\n",
      "        -0.0171,  0.0214, -0.0226,  0.0210,  0.0074, -0.0092, -0.0227, -0.0323,\n",
      "         0.0234,  0.0155, -0.0195,  0.0013, -0.0139,  0.0329,  0.0365, -0.0075,\n",
      "        -0.0307, -0.0033,  0.0109, -0.0251, -0.0210,  0.0290, -0.0306,  0.0122,\n",
      "         0.0313, -0.0236,  0.0252, -0.0132,  0.0251, -0.0228,  0.0179, -0.0332,\n",
      "         0.0100,  0.0247,  0.0295, -0.0343, -0.0046, -0.0117, -0.0243,  0.0184,\n",
      "        -0.0104,  0.0232, -0.0195,  0.0167, -0.0257,  0.0143,  0.0149,  0.0194,\n",
      "         0.0003,  0.0121, -0.0103,  0.0145,  0.0191,  0.0270, -0.0147, -0.0261,\n",
      "         0.0246, -0.0149,  0.0038,  0.0167,  0.0209,  0.0144,  0.0307, -0.0153,\n",
      "         0.0106,  0.0239, -0.0179, -0.0249, -0.0012, -0.0169,  0.0014, -0.0343,\n",
      "        -0.0171,  0.0229,  0.0316,  0.0349, -0.0212,  0.0197, -0.0213,  0.0167])), ('fc2.weight', tensor([[-0.0870, -0.1114, -0.0566,  ...,  0.0627, -0.1068, -0.0513],\n",
      "        [ 0.1374,  0.1252, -0.0726,  ...,  0.1051,  0.0153, -0.0098],\n",
      "        [-0.1073,  0.0567,  0.0010,  ..., -0.0738,  0.0251,  0.0056],\n",
      "        ...,\n",
      "        [-0.0358,  0.1188,  0.1082,  ...,  0.1238,  0.0642,  0.0930],\n",
      "        [-0.0623, -0.0053, -0.0737,  ..., -0.0423,  0.0262,  0.0821],\n",
      "        [ 0.0600,  0.0088, -0.0417,  ...,  0.0159,  0.0199, -0.0018]])), ('fc2.bias', tensor([ 0.0268, -0.0334,  0.0686,  0.0498, -0.0513,  0.0382, -0.0443, -0.0572,\n",
      "        -0.0423,  0.0381, -0.0542, -0.0212, -0.0150, -0.0110, -0.0767,  0.0574,\n",
      "         0.0616,  0.0521, -0.0450,  0.0250,  0.0799, -0.0594,  0.1042, -0.0168,\n",
      "         0.0799,  0.0192, -0.0794,  0.0492, -0.0280, -0.0353, -0.0605,  0.0231,\n",
      "         0.0029,  0.0408, -0.0664,  0.0677,  0.0271, -0.0052, -0.0814, -0.0395,\n",
      "         0.0862,  0.0478,  0.0049,  0.0449, -0.0173,  0.0468,  0.0976,  0.0829,\n",
      "         0.0658, -0.0325, -0.0378,  0.0243,  0.0147,  0.0508,  0.0513,  0.0632,\n",
      "         0.0781,  0.0406, -0.0674, -0.0408, -0.0098,  0.0781, -0.0210, -0.0267])), ('fc3.weight', tensor([[ 0.1166, -0.2033, -0.0716,  0.1215,  0.0861,  0.0325,  0.0423,  0.2436,\n",
      "          0.1334,  0.2048, -0.0488, -0.0023,  0.0899, -0.0445,  0.1314, -0.1091,\n",
      "          0.0033, -0.0369,  0.0283,  0.0288,  0.2132, -0.2974,  0.1160, -0.1556,\n",
      "          0.1989, -0.2070,  0.1171,  0.0556,  0.0223, -0.0544,  0.1123,  0.1356,\n",
      "         -0.2084,  0.0242, -0.0462,  0.1156,  0.0604,  0.0283, -0.0717,  0.2180,\n",
      "          0.0584, -0.0434, -0.0030,  0.2913, -0.2315,  0.2097, -0.0667,  0.0104,\n",
      "         -0.1027, -0.0042, -0.1094, -0.2573, -0.3476, -0.0670, -0.2093,  0.0914,\n",
      "         -0.0536, -0.2780, -0.0641,  0.1412,  0.0348, -0.1529, -0.0265, -0.0099],\n",
      "        [-0.2266, -0.0813,  0.0225, -0.3095,  0.0391, -0.0930,  0.0735, -0.1478,\n",
      "          0.0049,  0.1097,  0.2883,  0.0150, -0.0022,  0.1033, -0.0972, -0.0706,\n",
      "         -0.0493,  0.0555, -0.2328,  0.1483,  0.1203,  0.1697, -0.2554,  0.1680,\n",
      "         -0.2577, -0.1750,  0.0532, -0.1055, -0.1754,  0.0407, -0.0520,  0.0108,\n",
      "          0.2563, -0.2818, -0.0250,  0.0935,  0.0160,  0.0403,  0.0661, -0.1672,\n",
      "         -0.2171,  0.1484, -0.0834, -0.0272, -0.0283,  0.0372, -0.0361,  0.1486,\n",
      "          0.1485,  0.0229,  0.1412,  0.2168,  0.1116,  0.2002,  0.1247,  0.2015,\n",
      "         -0.0223, -0.0303,  0.1222, -0.0158, -0.0691, -0.2348, -0.0475, -0.1990],\n",
      "        [-0.0627,  0.1327, -0.0785,  0.0842, -0.1038,  0.1122, -0.1140,  0.0923,\n",
      "          0.1185,  0.2102, -0.0028, -0.0370,  0.1156,  0.2441, -0.0166, -0.1670,\n",
      "         -0.0583,  0.1160, -0.0624, -0.0621, -0.1065, -0.1635,  0.0508,  0.2077,\n",
      "         -0.1520,  0.1280, -0.0239, -0.0008,  0.1829, -0.1134, -0.1018, -0.0853,\n",
      "         -0.0565, -0.1856,  0.1030, -0.1737, -0.2360,  0.0287, -0.1128,  0.2288,\n",
      "         -0.0976, -0.0637, -0.0629, -0.1694, -0.1176,  0.1759, -0.0158, -0.0780,\n",
      "          0.1615, -0.0735, -0.0449,  0.0662,  0.1113,  0.1804, -0.1419,  0.1637,\n",
      "         -0.1450, -0.0706,  0.0747,  0.1305,  0.1013,  0.0224, -0.1129,  0.2403],\n",
      "        [ 0.1867, -0.2349, -0.0669,  0.0832,  0.1600,  0.2553, -0.0047, -0.1820,\n",
      "          0.2015, -0.0057, -0.0942, -0.1220,  0.0954,  0.1219,  0.0258,  0.0387,\n",
      "          0.1434, -0.0064,  0.1245, -0.0394, -0.0101, -0.0979, -0.1800,  0.1018,\n",
      "         -0.2113,  0.1565,  0.0758,  0.0710, -0.0607,  0.0804, -0.0132,  0.1652,\n",
      "         -0.0395, -0.2115,  0.1234,  0.1710,  0.1340,  0.1202,  0.1039, -0.1528,\n",
      "         -0.1698, -0.0262,  0.0256,  0.0280, -0.2270,  0.0379,  0.2180,  0.0563,\n",
      "         -0.1328, -0.1330,  0.0224,  0.1751,  0.1350, -0.1137, -0.1968, -0.1752,\n",
      "          0.1236,  0.0426,  0.1227,  0.1351, -0.1232, -0.2140, -0.0360,  0.0366],\n",
      "        [ 0.0333,  0.2366,  0.0129, -0.0468, -0.1197, -0.1864,  0.0233,  0.0139,\n",
      "         -0.2380, -0.0302,  0.1047, -0.0647, -0.0276, -0.1997, -0.0005,  0.1363,\n",
      "          0.1526,  0.0322,  0.0182,  0.0287, -0.2730,  0.1154,  0.1845, -0.2790,\n",
      "          0.0683,  0.1264, -0.0511,  0.1221,  0.1766, -0.0848,  0.0979, -0.2859,\n",
      "         -0.0095,  0.1185,  0.0799,  0.1084, -0.2001,  0.1223, -0.1101,  0.0697,\n",
      "          0.1355, -0.0287,  0.0512, -0.0830,  0.2088, -0.2265,  0.1043, -0.2353,\n",
      "          0.0687, -0.0651, -0.0306, -0.1125,  0.0772, -0.1675,  0.1490, -0.1323,\n",
      "          0.1383, -0.0094,  0.0025, -0.0041,  0.0792,  0.2308,  0.0006, -0.2047],\n",
      "        [-0.0246, -0.1898,  0.1251,  0.1519, -0.0112, -0.1536,  0.1480, -0.1173,\n",
      "          0.0740, -0.0709, -0.1196, -0.0781, -0.0241, -0.1489, -0.0680, -0.0688,\n",
      "          0.1320, -0.0634,  0.0696, -0.1041,  0.2050, -0.1109, -0.1321, -0.0542,\n",
      "         -0.0138, -0.0392, -0.0956,  0.0873,  0.1337, -0.1169,  0.1039,  0.2365,\n",
      "         -0.0636,  0.0694,  0.0761,  0.1932,  0.1689, -0.0561,  0.0957, -0.0676,\n",
      "          0.1118, -0.0095, -0.0461,  0.1844,  0.1216, -0.0414,  0.0925,  0.2074,\n",
      "         -0.1143,  0.1747, -0.1394,  0.1430, -0.0593, -0.1659, -0.0388,  0.0289,\n",
      "         -0.1286,  0.0477, -0.0376,  0.0031,  0.0899,  0.1167, -0.0183, -0.2164],\n",
      "        [-0.2321,  0.2850, -0.0804,  0.1893, -0.0307, -0.2332,  0.0579, -0.1853,\n",
      "         -0.1712,  0.0331, -0.0298,  0.0235,  0.0801, -0.1746,  0.1057, -0.1665,\n",
      "         -0.1823, -0.1013, -0.1851, -0.0726, -0.1993,  0.0739,  0.1113,  0.0843,\n",
      "          0.1655, -0.0040,  0.2502,  0.0607,  0.0719,  0.0723,  0.0280, -0.2067,\n",
      "          0.1003,  0.0866,  0.0304, -0.1601, -0.1619,  0.0836,  0.1160,  0.0143,\n",
      "          0.0304,  0.2350, -0.0177,  0.1368,  0.1243,  0.1404, -0.1839,  0.2391,\n",
      "          0.0342,  0.1425, -0.2810, -0.1789,  0.0868, -0.0476, -0.1395,  0.1153,\n",
      "         -0.0018, -0.1819, -0.0095,  0.1314, -0.0184,  0.1898, -0.0568, -0.0535],\n",
      "        [ 0.0985,  0.0881,  0.0792, -0.3505,  0.0078,  0.0307, -0.2227, -0.0085,\n",
      "          0.1732, -0.1415, -0.0447,  0.0728,  0.0426,  0.0600,  0.1005,  0.2644,\n",
      "          0.1526, -0.0742,  0.1641, -0.0597, -0.0042,  0.0387,  0.1551, -0.0490,\n",
      "          0.0093, -0.2180, -0.0340, -0.0324, -0.2584,  0.0595, -0.1238,  0.0417,\n",
      "         -0.0522, -0.0039, -0.1187, -0.2573,  0.1810,  0.0926, -0.0514,  0.2279,\n",
      "         -0.1735, -0.0068,  0.0520, -0.0412,  0.1398, -0.0917,  0.0566, -0.2091,\n",
      "         -0.1411,  0.0476,  0.2362, -0.0410,  0.0427,  0.2905,  0.2244, -0.0337,\n",
      "          0.0321, -0.1559, -0.0330, -0.0077,  0.0458, -0.2578,  0.1122, -0.1430],\n",
      "        [ 0.1533, -0.0774,  0.0875,  0.0686, -0.1619,  0.0217,  0.0258,  0.0585,\n",
      "         -0.1999,  0.1932, -0.1248,  0.0651, -0.1263, -0.0742,  0.0619, -0.1871,\n",
      "         -0.0287, -0.0710, -0.0972,  0.0558,  0.0808, -0.1143, -0.1626,  0.1245,\n",
      "         -0.1896,  0.1613,  0.0393,  0.0042, -0.1274,  0.0836, -0.0761,  0.1234,\n",
      "          0.0065,  0.1397,  0.0782,  0.2043,  0.0122,  0.1077, -0.1084, -0.2132,\n",
      "          0.1376, -0.1013, -0.1194, -0.0529, -0.0178, -0.1447,  0.0740,  0.0501,\n",
      "         -0.1269,  0.0204, -0.0050, -0.0168,  0.1732,  0.1323, -0.0241,  0.1851,\n",
      "         -0.2179,  0.2835, -0.0104, -0.1467,  0.1133,  0.1437, -0.1008,  0.0914],\n",
      "        [ 0.1209, -0.0738, -0.0117, -0.1956, -0.1149,  0.0208, -0.2129,  0.1898,\n",
      "         -0.1702, -0.1302, -0.0523, -0.0374, -0.0958, -0.0805, -0.0950,  0.1742,\n",
      "          0.1861,  0.1185,  0.1463, -0.0365, -0.0997,  0.0081,  0.1081, -0.2595,\n",
      "          0.1366,  0.1518,  0.0804,  0.0257, -0.2197,  0.0544, -0.0219, -0.1327,\n",
      "         -0.0079,  0.1167,  0.0947, -0.0372,  0.1344, -0.1177,  0.0319, -0.0851,\n",
      "         -0.0072,  0.1290, -0.0605, -0.0553,  0.0990,  0.0138, -0.0731, -0.1212,\n",
      "         -0.1626,  0.1129,  0.2335, -0.1780,  0.1424,  0.1165,  0.0952, -0.0323,\n",
      "          0.2314,  0.1164, -0.0880,  0.0784,  0.0303,  0.1328, -0.0132, -0.0941]])), ('fc3.bias', tensor([-0.0426,  0.0352,  0.1027, -0.0661,  0.0270,  0.0854, -0.1101,  0.0363,\n",
      "         0.0082,  0.0795]))])\n",
      "fc1.weight torch.Size([128, 784])\n",
      "fc1.bias torch.Size([128])\n",
      "fc2.weight torch.Size([64, 128])\n",
      "fc2.bias torch.Size([64])\n",
      "fc3.weight torch.Size([10, 64])\n",
      "fc3.bias torch.Size([10])\n"
     ]
    }
   ],
   "source": [
    "for p in model.state_dict().keys():\n",
    "    print(p, model.state_dict()[p].shape)"
   ]
  },
  {
   "cell_type": "code",
   "execution_count": 130,
   "metadata": {},
   "outputs": [],
   "source": [
    "def load_checkpoint(model, checkpoint):\n",
    "    checkpoint = torch.load(checkpoint)\n",
    "    model.load_state_dict(checkpoint)\n",
    "    "
   ]
  },
  {
   "cell_type": "code",
   "execution_count": 131,
   "metadata": {},
   "outputs": [],
   "source": [
    "load_checkpoint(model, 'checkpoint.pth')"
   ]
  },
  {
   "cell_type": "code",
   "execution_count": 132,
   "metadata": {},
   "outputs": [
    {
     "name": "stdout",
     "output_type": "stream",
     "text": [
      "(512, 256) (256, 128)\n"
     ]
    }
   ],
   "source": [
    "hidden_layers = [512, 256, 128]\n",
    "hidden_size = zip(hidden_layers[:-1], hidden_layers[1:])\n",
    "h1, h2 = hidden_size\n",
    "print(h1, h2)"
   ]
  },
  {
   "cell_type": "code",
   "execution_count": 126,
   "metadata": {},
   "outputs": [
    {
     "name": "stdout",
     "output_type": "stream",
     "text": [
      "128\n"
     ]
    }
   ],
   "source": []
  },
  {
   "cell_type": "code",
   "execution_count": null,
   "metadata": {},
   "outputs": [],
   "source": []
  }
 ],
 "metadata": {
  "kernelspec": {
   "display_name": "Python 3",
   "language": "python",
   "name": "python3"
  },
  "language_info": {
   "codemirror_mode": {
    "name": "ipython",
    "version": 3
   },
   "file_extension": ".py",
   "mimetype": "text/x-python",
   "name": "python",
   "nbconvert_exporter": "python",
   "pygments_lexer": "ipython3",
   "version": "3.6.9"
  }
 },
 "nbformat": 4,
 "nbformat_minor": 2
}
