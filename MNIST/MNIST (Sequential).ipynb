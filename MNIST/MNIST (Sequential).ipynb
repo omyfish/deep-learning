{
 "cells": [
  {
   "cell_type": "code",
   "execution_count": 4,
   "metadata": {},
   "outputs": [],
   "source": [
    "%matplotlib inline\n",
    "\n",
    "import torch\n",
    "import numpy as np\n",
    "from torchvision import datasets, transforms\n",
    "import matplotlib.pyplot as plt\n",
    "import torch.nn as nn"
   ]
  },
  {
   "cell_type": "code",
   "execution_count": 3,
   "metadata": {},
   "outputs": [],
   "source": [
    "transform = transforms.Compose([\n",
    "    transforms.ToTensor(),\n",
    "    transforms.Normalize((0.5,),(0.5,))\n",
    "])\n",
    "\n",
    "trainset = datasets.MNIST('~/python/MNIST', download=True, train=True, transform= transform)\n",
    "trainloader = torch.utils.data.DataLoader(trainset, shuffle=True, batch_size = 64)\n",
    "\n",
    "testset = datasets.MNIST('~/python/MNIST', download=True, train=False, transform= transform)\n",
    "testloader = torch.utils.data.DataLoader(testset, shuffle=True, batch_size = 64)\n"
   ]
  },
  {
   "cell_type": "code",
   "execution_count": 42,
   "metadata": {},
   "outputs": [],
   "source": [
    "from collections import OrderedDict\n",
    "import torch.optim as optim\n",
    "\n",
    "model = nn.Sequential(OrderedDict([\n",
    "    ('fc1', nn.Linear(28*28, 128)),\n",
    "    ('relu', nn.ReLU()),\n",
    "    ('dropout', nn.Dropout(0.2)),\n",
    "    ('fc2', nn.Linear(128, 64)),\n",
    "    ('relu', nn.ReLU()),\n",
    "    ('dropout', nn.Dropout(0.2)),    \n",
    "    ('fc3', nn.Linear(64, 10)),   \n",
    "    ('out', nn.LogSoftmax(dim=1))\n",
    "]))\n",
    "\n",
    "criterion = nn.NLLLoss()\n",
    "optimizer = optim.SGD(model.parameters(), lr = 0.003)\n"
   ]
  },
  {
   "cell_type": "code",
   "execution_count": 43,
   "metadata": {},
   "outputs": [
    {
     "name": "stdout",
     "output_type": "stream",
     "text": [
      "Running in cpu\n"
     ]
    }
   ],
   "source": [
    "device = torch.device('cuda' if torch.cuda.is_available() else 'cpu')\n",
    "print('Running in', device)"
   ]
  },
  {
   "cell_type": "code",
   "execution_count": 46,
   "metadata": {},
   "outputs": [
    {
     "name": "stdout",
     "output_type": "stream",
     "text": [
      "Total running loss (0): 0.3041553972666261\n",
      "Total validation loss (0): 0.2580858715305662\n",
      "Total running loss (1): 0.2928104834325278\n",
      "Total validation loss (1): 0.24864233180785636\n",
      "Total running loss (2): 0.2814943631336506\n",
      "Total validation loss (2): 0.24233569816988745\n",
      "Total running loss (3): 0.27208760808081006\n",
      "Total validation loss (3): 0.23349576016330414\n",
      "Total running loss (4): 0.26254334196702506\n",
      "Total validation loss (4): 0.22311285380155418\n",
      "Accuracy Rate:93.641\n"
     ]
    }
   ],
   "source": [
    "\n",
    "test_loss = 0\n",
    "epoch = 5\n",
    "\n",
    "model.to(device)\n",
    "\n",
    "for e in range(epoch):\n",
    "    running_loss = 0\n",
    "    for images, labels in trainloader:\n",
    "        model.train()\n",
    "        optimizer.zero_grad()\n",
    "        images, labels = images.to(device), labels.to(device)\n",
    "        images= images.view(images.shape[0], -1)\n",
    "        output = model(images)\n",
    "        loss = criterion(output, labels)\n",
    "        running_loss += loss.item()\n",
    "        \n",
    "        loss.backward()\n",
    "        optimizer.step()\n",
    "    else:\n",
    "        validation_loss = 0\n",
    "        accuracy = 0\n",
    "        for images, labels in testloader:\n",
    "            model.eval()\n",
    "            with torch.no_grad():\n",
    "                images, labels = images.to(device), labels.to(device)\n",
    "                images = images.view(images.shape[0], -1)\n",
    "                out = model(images)\n",
    "                loss = criterion(out, labels)\n",
    "                validation_loss += loss.item()\n",
    "                ps = torch.exp(out)\n",
    "                t_ps, t_class = ps.topk(1)\n",
    "                equality = t_class == labels.view(*t_class.shape)\n",
    "                accuracy += torch.mean(equality.type(torch.FloatTensor))\n",
    "        \n",
    "        print(f'Total running loss ({e}):', running_loss/len(trainloader))\n",
    "        print(f'Total validation loss ({e}):', validation_loss/len(testloader))\n",
    "\n",
    "print('Accuracy Rate:{:.3f}'.format(accuracy/len(testloader) * 100))\n",
    "        "
   ]
  },
  {
   "cell_type": "code",
   "execution_count": 67,
   "metadata": {},
   "outputs": [
    {
     "data": {
      "image/png": "[encoded data removed]",
      "text/plain": [
       "<Figure size 720x720 with 2 Axes>"
      ]
     },
     "metadata": {
      "needs_background": "light"
     },
     "output_type": "display_data"
    }
   ],
   "source": [
    "images, labels = next(iter(testloader))\n",
    "image = images[0]\n",
    "\n",
    "ps = torch.exp(model(image.view(image.shape[0], -1)))\n",
    "\n",
    "image = image.squeeze()\n",
    "fig, (ax1, ax2) = plt.subplots(1,2, figsize=(10,10))\n",
    "ax1.axis('off')\n",
    "ax1.imshow(image)\n",
    "\n",
    "ax2.set_aspect(0.1)\n",
    "ax2.set_yticks(np.arange(10))\n",
    "ax2.set_yticklabels(np.arange(10))\n",
    "ax2.set_xlim(0,1.1)\n",
    "ax2.set_title('Classification  probability')\n",
    "ax2.barh(np.arange(10), ps.detach().squeeze())\n",
    "plt.tight_layout = True"
   ]
  },
  {
   "cell_type": "code",
   "execution_count": null,
   "metadata": {},
   "outputs": [],
   "source": []
  }
 ],
 "metadata": {
  "kernelspec": {
   "display_name": "Python 3",
   "language": "python",
   "name": "python3"
  },
  "language_info": {
   "codemirror_mode": {
    "name": "ipython",
    "version": 3
   },
   "file_extension": ".py",
   "mimetype": "text/x-python",
   "name": "python",
   "nbconvert_exporter": "python",
   "pygments_lexer": "ipython3",
   "version": "3.6.9"
  }
 },
 "nbformat": 4,
 "nbformat_minor": 2
}
