{
 "cells": [
  {
   "cell_type": "code",
   "execution_count": 1,
   "metadata": {},
   "outputs": [],
   "source": [
    "%matplotlib inline\n",
    "import torch\n",
    "import matplotlib.pyplot as plt\n",
    "import numpy as np\n"
   ]
  },
  {
   "cell_type": "code",
   "execution_count": 130,
   "metadata": {},
   "outputs": [
    {
     "data": {
      "image/png": "[encoded data removed]",
      "text/plain": [
       "<Figure size 360x360 with 1 Axes>"
      ]
     },
     "metadata": {
      "needs_background": "light"
     },
     "output_type": "display_data"
    }
   ],
   "source": [
    "plt.figure(figsize=(5,5))\n",
    "\n",
    "#how many timeseries /time step are in one batch of data\n",
    "seq_length = 20\n",
    "\n",
    "#generate evenly spaced data pts\n",
    "time_steps = np.linspace(0, np.pi, seq_length + 1)\n",
    "data = np.sin(time_steps)\n",
    "# add input size dimension\n",
    "data.resize((seq_length + 1, 1))\n",
    "\n",
    "x = data[:-1] #all but last\n",
    "y = data[1:] #all but first\n",
    "\n",
    "plt.plot(time_steps[1:], x, 'r*', color='pink', label='input x', markersize=10)\n",
    "plt.plot(time_steps[1:], y, 'g*',color='purple', label='target y', markersize=10)\n",
    "plt.legend(loc='best')\n",
    "plt.show()"
   ]
  },
  {
   "cell_type": "code",
   "execution_count": 78,
   "metadata": {},
   "outputs": [],
   "source": [
    "import torch.nn as nn\n",
    "import torch.optim as optim\n",
    "\n",
    "class RNN(nn.Module):\n",
    "    def __init__(self, input_size, output_size, hidden_dim, n_layers):\n",
    "        super(RNN, self).__init__()\n",
    "        self.hidden_dim = hidden_dim\n",
    "        #batch_first will add the batch size as first dimension (in most of the case, it is 'yes')\n",
    "        self.rnn = nn.RNN(input_size, hidden_dim, n_layers, batch_first=True)\n",
    "        self.fc = nn.Linear(hidden_dim, output_size)\n",
    "    def forward(self, x, hidden):\n",
    "        # x size = batch_size, seq_length, input size\n",
    "        # get the batch_size\n",
    "        batch_size = x.size(0)\n",
    "        \n",
    "        #get rnn output\n",
    "        output, hidden =self.rnn(x, hidden)\n",
    "        \n",
    "        #shape output to (batchsize * seqLength, hidden dimension)\n",
    "        r_out = output.view(-1, self.hidden_dim)\n",
    "        \n",
    "        #get final output\n",
    "        output = self.fc(r_out)\n",
    "        return output, hidden"
   ]
  },
  {
   "cell_type": "code",
   "execution_count": 83,
   "metadata": {},
   "outputs": [
    {
     "name": "stdout",
     "output_type": "stream",
     "text": [
      "Input size torch.Size([1, 20, 1])\n",
      "Output size torch.Size([20, 1])\n",
      "Hidden size torch.Size([2, 1, 10])\n"
     ]
    }
   ],
   "source": [
    "test_model = RNN(input_size=1,output_size=1,hidden_dim=10,n_layers=2)\n",
    "\n",
    "time_steps = np.linspace(0, np.pi, seq_length)\n",
    "data = np.sin(time_steps)\n",
    "data.resize((seq_length, 1))\n",
    "test_input = torch.Tensor(data).unsqueeze(0) # give a batch dimension\n",
    "\n",
    "print('Input size', test_input.size()) # [1, 20, 1] batchsize = 1, seq length = 20, input size = 1\n",
    "\n",
    "test_output, test_hidden = test_model(test_input, None) \n",
    "print('Output size', test_output.size()) #[20, 1] batch size * seq lenght = 20,output size = 1\n",
    "print('Hidden size', test_hidden.size()) #[2, 1, 10] n_layer = 2, batch size = 1, hidden dim = 10\n"
   ]
  },
  {
   "cell_type": "code",
   "execution_count": 85,
   "metadata": {},
   "outputs": [
    {
     "name": "stdout",
     "output_type": "stream",
     "text": [
      "RNN(\n",
      "  (rnn): RNN(1, 32, num_layers=3, batch_first=True)\n",
      "  (fc): Linear(in_features=32, out_features=1, bias=True)\n",
      ")\n"
     ]
    }
   ],
   "source": [
    "#decide hyperparameter\n",
    "input_size = 1\n",
    "output_size = 1\n",
    "hidden_dim = 32\n",
    "n_layers = 3\n",
    "\n",
    "#initiate rnn\n",
    "rnn = RNN(input_size, output_size , hidden_dim, n_layers)\n",
    "print(rnn)\n"
   ]
  },
  {
   "cell_type": "code",
   "execution_count": 134,
   "metadata": {},
   "outputs": [],
   "source": [
    "\n",
    "optimizer = optim.Adam(rnn.parameters(), lr=0.01)\n",
    "criterion = nn.MSELoss()\n",
    "\n",
    "def train (rnn, step, show_every):\n",
    "    hidden = None\n",
    "    for e in range(step):\n",
    "        time_steps = np.linspace(e * np.pi, (e+1) * np.pi, seq_length+1)\n",
    "        data = np.sin(time_steps) # shape (21,)\n",
    "        data.resize((seq_length+1, 1)) # shape (21, ) Input size =1\n",
    "        x = data[:-1]\n",
    "        y = data[1:]\n",
    "        x_tensor = torch.Tensor(x).unsqueeze(0) #  # shape (1, 20, 1) add a batch dimension\n",
    "        y_tensor = torch.Tensor(y)\n",
    "\n",
    "        # outputs from the rnn\n",
    "        prediction, hidden = rnn(x_tensor, hidden)\n",
    "\n",
    "        ## Represent Memory ##\n",
    "        # make a new variable of hidden and detach the hidden state from its history\n",
    "        # this way, we dont do backpropagation to the entire history\n",
    "        hidden = hidden.data\n",
    "        # calculate the loss\n",
    "        loss = criterion(prediction, y_tensor)\n",
    "        \n",
    "        # zero gradients\n",
    "        optimizer.zero_grad()\n",
    "        # perform backprop and update weights\n",
    "        loss.backward()\n",
    "        optimizer.step()\n",
    "\n",
    "        if (e) % show_every == 0:\n",
    "            print('Running loss', loss.item())\n",
    "            plt.plot(time_steps[1:], x, 'r.', label = 'input')\n",
    "            plt.plot(time_steps[1:], prediction.data.numpy().flatten(), 'b.', label ='prediction')\n",
    "            plt.show()\n",
    "        \n",
    "    return rnn\n"
   ]
  },
  {
   "cell_type": "code",
   "execution_count": 135,
   "metadata": {},
   "outputs": [
    {
     "name": "stdout",
     "output_type": "stream",
     "text": [
      "Running loss 0.005418085027486086\n"
     ]
    },
    {
     "data": {
      "image/png": "[encoded data removed]",
      "text/plain": [
       "<Figure size 432x288 with 1 Axes>"
      ]
     },
     "metadata": {
      "needs_background": "light"
     },
     "output_type": "display_data"
    },
    {
     "name": "stdout",
     "output_type": "stream",
     "text": [
      "Running loss 0.013121115043759346\n"
     ]
    },
    {
     "data": {
      "image/png": "[encoded data removed]",
      "text/plain": [
       "<Figure size 432x288 with 1 Axes>"
      ]
     },
     "metadata": {
      "needs_background": "light"
     },
     "output_type": "display_data"
    },
    {
     "name": "stdout",
     "output_type": "stream",
     "text": [
      "Running loss 0.002903626998886466\n"
     ]
    },
    {
     "data": {
      "image/png": "[encoded data removed]",
      "text/plain": [
       "<Figure size 432x288 with 1 Axes>"
      ]
     },
     "metadata": {
      "needs_background": "light"
     },
     "output_type": "display_data"
    },
    {
     "name": "stdout",
     "output_type": "stream",
     "text": [
      "Running loss 0.0010612333426252007\n"
     ]
    },
    {
     "data": {
      "image/png": "[encoded data removed]",
      "text/plain": [
       "<Figure size 432x288 with 1 Axes>"
      ]
     },
     "metadata": {
      "needs_background": "light"
     },
     "output_type": "display_data"
    },
    {
     "name": "stdout",
     "output_type": "stream",
     "text": [
      "Running loss 0.000193799365661107\n"
     ]
    },
    {
     "data": {
      "image/png": "[encoded data removed]",
      "text/plain": [
       "<Figure size 432x288 with 1 Axes>"
      ]
     },
     "metadata": {
      "needs_background": "light"
     },
     "output_type": "display_data"
    }
   ],
   "source": [
    "# train the rnn and monitor results\n",
    "n_steps = 75\n",
    "print_every = 15\n",
    "\n",
    "trained_rnn = train(rnn, n_steps, print_every)"
   ]
  },
  {
   "cell_type": "code",
   "execution_count": null,
   "metadata": {},
   "outputs": [],
   "source": []
  }
 ],
 "metadata": {
  "kernelspec": {
   "display_name": "Python 3",
   "language": "python",
   "name": "python3"
  },
  "language_info": {
   "codemirror_mode": {
    "name": "ipython",
    "version": 3
   },
   "file_extension": ".py",
   "mimetype": "text/x-python",
   "name": "python",
   "nbconvert_exporter": "python",
   "pygments_lexer": "ipython3",
   "version": "3.6.9"
  }
 },
 "nbformat": 4,
 "nbformat_minor": 2
}
