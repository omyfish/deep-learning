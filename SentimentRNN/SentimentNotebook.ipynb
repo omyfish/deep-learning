{
 "cells": [
  {
   "cell_type": "code",
   "execution_count": 1,
   "metadata": {},
   "outputs": [],
   "source": [
    "!wget 'https://raw.githubusercontent.com/omyfish/deep-learning/master/SentimentRNN/data/labels.txt'\n",
    "!wget 'https://raw.githubusercontent.com/omyfish/deep-learning/master/SentimentRNN/data/reviews.txt'\n",
    "\n",
    "import torch"
   ]
  },
  {
   "cell_type": "code",
   "execution_count": 2,
   "metadata": {},
   "outputs": [],
   "source": [
    "with open('reviews.txt', 'r') as t:\n",
    "    reviews = t.read()\n",
    "\n",
    "with open('labels.txt', 'r') as t:\n",
    "    labels = t.read()"
   ]
  },
  {
   "cell_type": "code",
   "execution_count": 3,
   "metadata": {},
   "outputs": [
    {
     "name": "stdout",
     "output_type": "stream",
     "text": [
      "bromwell high is a cartoon comedy . it ran at the same time as some other programs about school life\n",
      "positive\n",
      "negative\n",
      "positive\n",
      "negative\n",
      "positive\n",
      "negat\n"
     ]
    }
   ],
   "source": [
    "print(reviews[:100])\n",
    "print(labels[:50])"
   ]
  },
  {
   "cell_type": "code",
   "execution_count": 4,
   "metadata": {},
   "outputs": [
    {
     "name": "stdout",
     "output_type": "stream",
     "text": [
      "25001\n"
     ]
    }
   ],
   "source": [
    "from string import punctuation\n",
    "from collections import Counter\n",
    "import numpy as np\n",
    "\n",
    "reviews = reviews.lower()\n",
    "reviews = ''.join(r for r in reviews if r not in punctuation)\n",
    "\n",
    "char = sorted(Counter(reviews.split()))\n",
    "reviewToInt = {ch: ii + 1 for ii, ch in enumerate(char)}\n",
    "\n",
    "reviews_split = [r for r in reviews.split('\\n')]\n",
    "\n",
    "reviews_int = np.array([[reviewToInt[r] for r in review.split() ] for review in reviews_split])\n",
    "\n",
    "print(reviews_int.size)\n",
    " \n"
   ]
  },
  {
   "cell_type": "code",
   "execution_count": 5,
   "metadata": {},
   "outputs": [
    {
     "name": "stdout",
     "output_type": "stream",
     "text": [
      "25001\n"
     ]
    }
   ],
   "source": [
    "labels_split = labels.split('\\n')\n",
    "labels_int = np.array([1 if label == 'positive' else 0 for label in labels_split])\n",
    "print(labels_int.size)"
   ]
  },
  {
   "cell_type": "code",
   "execution_count": 6,
   "metadata": {},
   "outputs": [
    {
     "name": "stdout",
     "output_type": "stream",
     "text": [
      "1\n"
     ]
    }
   ],
   "source": [
    "reviews_counter = Counter([len(r) for r in reviews_int])\n",
    "print(reviews_counter[0]) # remove review with zero length"
   ]
  },
  {
   "cell_type": "code",
   "execution_count": 7,
   "metadata": {},
   "outputs": [
    {
     "name": "stdout",
     "output_type": "stream",
     "text": [
      "25000\n",
      "25000\n"
     ]
    }
   ],
   "source": [
    "review_idx = [ii for ii, review in enumerate(reviews_int) if len(review) > 0]\n",
    "reviews_int = np.array([reviews_int[idx] for idx in review_idx])\n",
    "labels_int = np.array([labels_int[idx] for idx in review_idx])\n",
    "\n",
    "print(reviews_int.size)\n",
    "print(labels_int.size)"
   ]
  },
  {
   "cell_type": "code",
   "execution_count": 8,
   "metadata": {},
   "outputs": [],
   "source": [
    "def padding_features(reviews_int, seq_length=200):\n",
    "    features = np.zeros((len(reviews_int), seq_length), dtype=int)\n",
    "    for i, row in enumerate(reviews_int):\n",
    "        features[i, -len(row):] = np.array(row)[:seq_length]\n",
    "    \n",
    "    return features"
   ]
  },
  {
   "cell_type": "code",
   "execution_count": 9,
   "metadata": {},
   "outputs": [
    {
     "name": "stdout",
     "output_type": "stream",
     "text": [
      "(25000, 200)\n"
     ]
    }
   ],
   "source": [
    "seq_length = 200\n",
    "features = padding_features(reviews_int, seq_length)\n",
    "print(features.shape)"
   ]
  },
  {
   "cell_type": "code",
   "execution_count": 10,
   "metadata": {},
   "outputs": [
    {
     "name": "stdout",
     "output_type": "stream",
     "text": [
      "(20000, 200)\n",
      "(2500, 200)\n",
      "(2500, 200)\n"
     ]
    }
   ],
   "source": [
    "from torch.utils.data import DataLoader\n",
    "\n",
    "frac = 0.8\n",
    "train_count = int(len(features) * 0.8)\n",
    "train_x, remaining_x = features[:train_count], features[train_count:]\n",
    "train_y, remaining_y = labels_int[:train_count], labels_int[train_count:]\n",
    "\n",
    "remaining_count = int(len(reviews_int) * 0.1)\n",
    "valid_x, test_x = remaining_x[:remaining_count], remaining_x[:remaining_count] \n",
    "valid_y, test_y = remaining_y[:remaining_count], remaining_y[:remaining_count]\n",
    "\n",
    "print(train_x.shape)\n",
    "print(valid_x.shape)\n",
    "print(test_x.shape)"
   ]
  },
  {
   "cell_type": "code",
   "execution_count": 11,
   "metadata": {},
   "outputs": [],
   "source": [
    "from torch.utils.data import TensorDataset\n",
    "\n",
    "train_data = TensorDataset(torch.from_numpy(train_x), torch.from_numpy(train_y))\n",
    "valid_data = TensorDataset(torch.from_numpy(valid_x), torch.from_numpy(valid_y))\n",
    "test_data = TensorDataset(torch.from_numpy(test_x), torch.from_numpy(test_y))\n",
    "\n",
    "batch_size = 50\n",
    "train_loader = DataLoader(train_data, batch_size = batch_size, shuffle=True)\n",
    "valid_loader = DataLoader(valid_data, batch_size = batch_size, shuffle=True)\n",
    "test_loader = DataLoader(test_data, batch_size = batch_size, shuffle=True)\n"
   ]
  },
  {
   "cell_type": "code",
   "execution_count": 12,
   "metadata": {},
   "outputs": [
    {
     "name": "stdout",
     "output_type": "stream",
     "text": [
      "Train on gpu: False\n"
     ]
    }
   ],
   "source": [
    "train_on_gpu = torch.cuda.is_available()\n",
    "print('Train on gpu: {}'.format(train_on_gpu))"
   ]
  },
  {
   "cell_type": "code",
   "execution_count": 13,
   "metadata": {},
   "outputs": [],
   "source": [
    "import torch.nn as nn\n",
    "\n",
    "class SentimentRNN(nn.Module):\n",
    "    def __init__(self, vocab_size, output, embed_dim, hidden_dim, n_layers, dropoutrate):\n",
    "        super(SentimentRNN, self).__init__()\n",
    "        self.hidden_dim = hidden_dim\n",
    "        self.n_layers = n_layers\n",
    "        \n",
    "        self.embedding = nn.Embedding(vocab_size, embed_dim)\n",
    "        self.lstm = nn.LSTM(embed_dim, hidden_dim, n_layers, batch_first=True, dropout=dropoutrate)\n",
    "        self.dropout = nn.Dropout(0.3)\n",
    "        self.fc = nn.Linear(hidden_dim, output)\n",
    "        self.sigmoid = nn.Sigmoid()\n",
    "    def forward(self, x, hidden):\n",
    "        batch_size = x.size(0)\n",
    "        \n",
    "        x = x.long()\n",
    "        x = self.embedding(x)\n",
    "        x, hidden = self.lstm(x, hidden)\n",
    "        \n",
    "        out = x.contiguous().view(-1, self.hidden_dim)\n",
    "        \n",
    "        out = self.dropout(out)\n",
    "        out = self.fc(out)\n",
    "        sigout = self.sigmoid(out)\n",
    "        \n",
    "        sigout = sigout.view(batch_size, -1)\n",
    "        sigout = sigout[:, -1] #Get the label of each batch\n",
    "        \n",
    "        return sigout, hidden\n",
    "\n",
    "    def hidden_init(self, batch_size):\n",
    "        weight = next(self.parameters()).data\n",
    "        if train_on_gpu:\n",
    "            hidden = (weight.new(self.n_layers, batch_size, self.hidden_dim).zero_().cuda(),\n",
    "                      weight.new(self.n_layers, batch_size, self.hidden_dim).zero_().cuda())\n",
    "        else:\n",
    "            hidden = (weight.new(self.n_layers, batch_size, self.hidden_dim).zero_(),\n",
    "                      weight.new(self.n_layers, batch_size, self.hidden_dim).zero_())\n",
    "        return hidden\n",
    "    "
   ]
  },
  {
   "cell_type": "code",
   "execution_count": 14,
   "metadata": {},
   "outputs": [],
   "source": [
    "input_size = len(reviews_int)\n",
    "output = 1 # 0~1\n",
    "hidden = 256\n",
    "embed_dim= 400\n",
    "n_layers = 2\n",
    "rnn = SentimentRNN(input_size, output, embed_dim, hidden,n_layers, 0.2)\n",
    "h = rnn.hidden_init(batch_size)\n",
    "\n"
   ]
  },
  {
   "cell_type": "code",
   "execution_count": 15,
   "metadata": {},
   "outputs": [
    {
     "name": "stdout",
     "output_type": "stream",
     "text": [
      "SentimentRNN(\n",
      "  (embedding): Embedding(74073, 400)\n",
      "  (lstm): LSTM(400, 256, num_layers=2, batch_first=True, dropout=0.2)\n",
      "  (dropout): Dropout(p=0.3, inplace=False)\n",
      "  (fc): Linear(in_features=256, out_features=1, bias=True)\n",
      "  (sigmoid): Sigmoid()\n",
      ")\n"
     ]
    }
   ],
   "source": [
    "vocab_size = len(reviewToInt) + 1\n",
    "output = 1 # 0~1\n",
    "hidden = 256\n",
    "embed_dim= 400\n",
    "n_layers = 2\n",
    "net = SentimentRNN(vocab_size, output, embed_dim, hidden,n_layers, 0.2)\n",
    "print(net)"
   ]
  },
  {
   "cell_type": "code",
   "execution_count": 16,
   "metadata": {},
   "outputs": [],
   "source": [
    "import torch.optim as optim\n",
    "\n",
    "optimizer = optim.Adam(net.parameters(), lr=0.003)\n",
    "criterion = nn.BCELoss() #Binary cross entrophy loss"
   ]
  },
  {
   "cell_type": "code",
   "execution_count": 17,
   "metadata": {},
   "outputs": [
    {
     "name": "stderr",
     "output_type": "stream",
     "text": [
      "C:\\Users\\Admin\\Miniconda3\\envs\\deep-learning\\lib\\site-packages\\numpy\\core\\fromnumeric.py:3257: RuntimeWarning: Mean of empty slice.\n",
      "  out=out, **kwargs)\n",
      "C:\\Users\\Admin\\Miniconda3\\envs\\deep-learning\\lib\\site-packages\\numpy\\core\\_methods.py:161: RuntimeWarning: invalid value encountered in double_scalars\n",
      "  ret = ret.dtype.type(ret / rcount)\n"
     ]
    },
    {
     "name": "stdout",
     "output_type": "stream",
     "text": [
      "Epoch: 1/4... Step: 100... Loss: 0.665965... Val Loss: nan\n",
      "Epoch: 1/4... Step: 200... Loss: 0.701921... Val Loss: nan\n",
      "Epoch: 1/4... Step: 300... Loss: 0.701650... Val Loss: nan\n",
      "Epoch: 1/4... Step: 400... Loss: 0.696841... Val Loss: nan\n",
      "Epoch: 2/4... Step: 500... Loss: 0.665835... Val Loss: nan\n",
      "Epoch: 2/4... Step: 600... Loss: 0.385749... Val Loss: nan\n",
      "Epoch: 2/4... Step: 700... Loss: 0.362624... Val Loss: nan\n",
      "Epoch: 2/4... Step: 800... Loss: 0.364873... Val Loss: nan\n",
      "Epoch: 3/4... Step: 900... Loss: 0.314485... Val Loss: nan\n",
      "Epoch: 3/4... Step: 1000... Loss: 0.324695... Val Loss: nan\n",
      "Epoch: 3/4... Step: 1100... Loss: 0.287880... Val Loss: nan\n",
      "Epoch: 3/4... Step: 1200... Loss: 0.339451... Val Loss: nan\n",
      "Epoch: 4/4... Step: 1300... Loss: 0.048610... Val Loss: nan\n",
      "Epoch: 4/4... Step: 1400... Loss: 0.283166... Val Loss: nan\n",
      "Epoch: 4/4... Step: 1500... Loss: 0.200042... Val Loss: nan\n",
      "Epoch: 4/4... Step: 1600... Loss: 0.161544... Val Loss: nan\n"
     ]
    }
   ],
   "source": [
    "epochs = 4\n",
    "show_every = 100\n",
    "counter = 0\n",
    "clip = 5 \n",
    "\n",
    "if train_on_gpu:\n",
    "    net.cuda()\n",
    "\n",
    "net.train()\n",
    "for e in range(epochs):\n",
    "    h = net.hidden_init(batch_size)\n",
    "    for inputs, labels in train_loader:\n",
    "        counter+=1\n",
    "        net.zero_grad()\n",
    "        \n",
    "        if train_on_gpu:\n",
    "            inputs, labels = inputs.cuda(), labels.cuda()\n",
    "\n",
    "        h = tuple([each.data for each in h])\n",
    "        \n",
    "        out, h = net(inputs, h)\n",
    "        loss = criterion(out.squeeze(), labels.float())\n",
    "        \n",
    "        loss.backward()\n",
    "        \n",
    "        nn.utils.clip_grad_norm_(net.parameters(), clip)\n",
    "        \n",
    "        optimizer.step()\n",
    "        if counter % show_every == 0:\n",
    "            net.eval()\n",
    "            val_losses = [];\n",
    "            val_h = net.hidden_init(batch_size)\n",
    "            for inputs, labels in valid_loader:\n",
    "                 if train_on_gpu:\n",
    "                    inputs, labels = inputs.cuda(), labels.cuda()\n",
    "                    val_h = tuple([each.data for each in val_h])\n",
    "                    \n",
    "                    out, val_h = net(inputs, val_h)\n",
    "                    loss = criterion(out.squeeze(), labels.float())\n",
    "                    val_losses.append(loss.item())\n",
    "                    \n",
    "            print(\"Epoch: {}/{}...\".format(e+1, epochs),\n",
    "                  \"Step: {}...\".format(counter),\n",
    "                  \"Loss: {:.6f}...\".format(loss.item()),\n",
    "                  \"Val Loss: {:.6f}\".format(np.mean(val_losses)))      \n",
    "            net.train()\n",
    "        "
   ]
  },
  {
   "cell_type": "code",
   "execution_count": null,
   "metadata": {},
   "outputs": [],
   "source": [
    "losses = []\n",
    "num_correct = 0\n",
    "\n",
    "net.eval()\n",
    "for inputs, labels in test_loader:\n",
    "    if train_on_gpu:\n",
    "        inputs, labels = inputs.cuda(), labels.cuda()\n",
    "\n",
    "    test_h = net.hidden_init(batch_size)\n",
    "    test_h = tuple([each.data for each in test_h])\n",
    "    \n",
    "    out, test_val = net(inputs, test_h)\n",
    "    loss = criterion(out.squeeze(), labels.float())\n",
    "    losses.append(loss.item())\n",
    "    prep = torch.round(out.squeeze())\n",
    "    correct_tensor = prep.eq(labels.float().view_as(prep))\n",
    "    correct = np.squeeze(correct_tensor.numpy()) if train_on_gpu == False else np.squeeze(correct_tensor.cpu().numpy())\n",
    "    num_correct += np.sum(correct)\n",
    "    \n",
    "# -- stats! -- ##\n",
    "# avg test loss\n",
    "print(\"Test loss: {:.3f}\".format(np.mean(losses)))\n",
    "\n",
    "# accuracy over all test data\n",
    "test_acc = num_correct/len(test_loader.dataset)\n",
    "\n",
    "print(\"Test accuracy: {:.3f}\".format(test_acc))"
   ]
  },
  {
   "cell_type": "code",
   "execution_count": null,
   "metadata": {},
   "outputs": [],
   "source": [
    "test_sentence = \"I dont like it\"\n",
    "test_sentence = test_sentence.lower()\n",
    "test_sentence = ''.join([r for r  in test_sentence if r not in punctuation])\n",
    "embeded_review = np.array([[reviewToInt[r] for r in test_sentence.split()]])\n",
    "\n",
    "padded_feature = padding_features(embeded_review)\n",
    "padded_tensor = torch.from_numpy(padded_feature)\n",
    "if train_on_gpu:\n",
    "  padded_tensor = padded_tensor.cuda()\n",
    "\n",
    "batch_size = padded_tensor.size(0)\n",
    "\n",
    "h = net.hidden_init(batch_size)\n",
    "out, h = net(padded_tensor, h)\n",
    "\n",
    "pred = torch.round(out.squeeze())\n",
    "\n",
    " # print custom response\n",
    "if(pred.item()==1):\n",
    "    print(\"Positive review detected!\")\n",
    "else:\n",
    "    print(\"Negative review detected.\")\n"
   ]
  }
 ],
 "metadata": {
  "kernelspec": {
   "display_name": "Python 3",
   "language": "python",
   "name": "python3"
  },
  "language_info": {
   "codemirror_mode": {
    "name": "ipython",
    "version": 3
   },
   "file_extension": ".py",
   "mimetype": "text/x-python",
   "name": "python",
   "nbconvert_exporter": "python",
   "pygments_lexer": "ipython3",
   "version": "3.6.9"
  }
 },
 "nbformat": 4,
 "nbformat_minor": 2
}
